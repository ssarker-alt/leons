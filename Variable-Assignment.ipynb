{
 "cells": [
  {
   "cell_type": "markdown",
   "metadata": {},
   "source": [
    "# Variables Assignment\n"
   ]
  },
  {
   "cell_type": "markdown",
   "metadata": {},
   "source": [
    "## Exercise 1: Creating and Printing Variables\n",
    "\n",
    "Variables allow us to label data with a descriptive name. This makes our programs easier to understand and maintain.\n",
    "\n",
    "- **Task 1.1:** Create a variable named `my_name` and assign your name to it as a string. Then use the `print()` function to display the value of `my_name`.\n",
    "\n",
    "  Example:\n",
    "\n",
    "  ```python\n",
    "  my_name = \"Alice\"\n",
    "  print(my_name)\n",
    "  ```\n",
    "\n",
    "- **Task 1.2:** Now, create a variable `my_age` and assign your age to it as an integer. Use `print()` to display the value of `my_age`.\n"
   ]
  },
  {
   "cell_type": "code",
   "execution_count": null,
   "metadata": {},
   "outputs": [],
   "source": [
    "# Task 1.1"
   ]
  },
  {
   "cell_type": "code",
   "execution_count": null,
   "metadata": {},
   "outputs": [],
   "source": [
    "# Task 1.2"
   ]
  },
  {
   "cell_type": "markdown",
   "metadata": {},
   "source": [
    "## Exercise 2: Variable Reassignment\n",
    "\n",
    "Learning about variable reassignment is important because it shows how variables can be dynamic and change their values throughout the execution of a program.\n",
    "\n",
    "- **Task 2.1:** Create a variable `x` with the initial value of `10`. Print `x`.\n",
    "- **Task 2.2:** Reassign `x` to a string value, say `\"Python\"`. Print `x` again to observe how its value has changed.\n"
   ]
  },
  {
   "cell_type": "code",
   "execution_count": null,
   "metadata": {},
   "outputs": [],
   "source": [
    "# Task 2.1"
   ]
  },
  {
   "cell_type": "code",
   "execution_count": null,
   "metadata": {},
   "outputs": [],
   "source": [
    "# Task 2.2"
   ]
  },
  {
   "cell_type": "markdown",
   "metadata": {},
   "source": [
    "## Exercise 3: Swapping Variables\n",
    "\n",
    "Swapping the values of two variables is a common operation in many algorithms. Understanding how to do it efficiently is a key skill.\n",
    "\n",
    "- **Task 3.1:** Create two variables `a` and `b` with the values `3` and `7`, respectively. Print both variables.\n",
    "- **Task 3.2:** Swap the values of `a` and `b` without using a third variable and print them again. After swapping, `a` should have the value `7` and `b` should have the value `3`.\n"
   ]
  },
  {
   "cell_type": "code",
   "execution_count": null,
   "metadata": {},
   "outputs": [],
   "source": [
    "# Task 3.1"
   ]
  },
  {
   "cell_type": "code",
   "execution_count": null,
   "metadata": {},
   "outputs": [],
   "source": [
    "# Task 3.2"
   ]
  },
  {
   "cell_type": "markdown",
   "metadata": {},
   "source": [
    "## Exercise 4: Variable Names and Conventions\n",
    "\n",
    "Choosing the right variable name is crucial for writing clear and readable code. Python has certain rules and conventions for naming variables.\n",
    "\n",
    "- **Task 4.1:** [Error Finding] Attempt to create a variable named `1st_number` and assign any number to it. Print the variable. Observe the error message.\n",
    "- **Task 4.2:** Explain why the error occurred and correct the variable name according to Python's naming conventions.\n"
   ]
  },
  {
   "cell_type": "code",
   "execution_count": null,
   "metadata": {},
   "outputs": [],
   "source": [
    "# Task 4.1"
   ]
  },
  {
   "cell_type": "markdown",
   "metadata": {},
   "source": [
    "Task 4.2\n",
    "\n",
    "Your Explanation:\n"
   ]
  },
  {
   "cell_type": "code",
   "execution_count": null,
   "metadata": {},
   "outputs": [],
   "source": [
    "# Task 4.2 - Corrected Variable Name"
   ]
  },
  {
   "cell_type": "markdown",
   "metadata": {},
   "source": [
    "## Reflection\n",
    "\n",
    "After completing these exercises, think about the following questions and write a short paragraph reflecting on your answers:\n",
    "\n",
    "- Why is it important to give meaningful names to variables?\n",
    "- What did you learn about how variables work in Python?\n",
    "- How did the exercise on swapping variables help you understand the assignment and manipulation of values in Python?\n"
   ]
  },
  {
   "cell_type": "markdown",
   "metadata": {},
   "source": []
  }
 ],
 "metadata": {
  "language_info": {
   "name": "python"
  }
 },
 "nbformat": 4,
 "nbformat_minor": 2
}
